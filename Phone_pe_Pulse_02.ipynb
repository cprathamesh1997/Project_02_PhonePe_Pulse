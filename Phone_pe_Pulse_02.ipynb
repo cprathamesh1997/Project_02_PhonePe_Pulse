{
  "nbformat": 4,
  "nbformat_minor": 0,
  "metadata": {
    "colab": {
      "provenance": []
    },
    "kernelspec": {
      "name": "python3",
      "display_name": "Python 3"
    },
    "language_info": {
      "name": "python"
    }
  },
  "cells": [
    {
      "cell_type": "markdown",
      "source": [
        "# **Phonepe Pulse Data Visualization and Exploration**"
      ],
      "metadata": {
        "id": "0VUZzlYl_2FW"
      }
    },
    {
      "cell_type": "markdown",
      "source": [
        "### ***Clone_the_required_github_repository[Phone pe Pulse]***"
      ],
      "metadata": {
        "id": "klWlT-CcARPC"
      }
    },
    {
      "cell_type": "code",
      "source": [
        "!git clone https://github.com/PhonePe/pulse.git\n",
        "import pandas as pd\n",
        "import json\n",
        "import os\n"
      ],
      "metadata": {
        "id": "bv64DdK6ANHy",
        "colab": {
          "base_uri": "https://localhost:8080/"
        },
        "outputId": "fd391167-ee08-4a9e-8614-8b741d607b1d"
      },
      "execution_count": 1,
      "outputs": [
        {
          "output_type": "stream",
          "name": "stdout",
          "text": [
            "Cloning into 'pulse'...\n",
            "remote: Enumerating objects: 7975, done.\u001b[K\n",
            "remote: Counting objects: 100% (7975/7975), done.\u001b[K\n",
            "remote: Compressing objects: 100% (6637/6637), done.\u001b[K\n",
            "remote: Total 7975 (delta 2465), reused 6527 (delta 1031), pack-reused 0\u001b[K\n",
            "Receiving objects: 100% (7975/7975), 2.11 MiB | 19.63 MiB/s, done.\n",
            "Resolving deltas: 100% (2465/2465), done.\n"
          ]
        }
      ]
    },
    {
      "cell_type": "markdown",
      "source": [
        "## ***For_Aggregated_data***"
      ],
      "metadata": {
        "id": "5pabWFaWAkpQ"
      }
    },
    {
      "cell_type": "code",
      "source": [
        "#Import_Required libraries for the program\n",
        "\n",
        "import pandas as pd\n",
        "import json\n",
        "import os\n",
        "\n",
        "#For_aggregated_transaction_data as states\n",
        "\n",
        "#Path to get the data as states\n",
        "\n",
        "path=\"/content/pulse/data/aggregated/transaction/country/india/state/\"\n",
        "Agg_state=os.listdir(path) #To get the list of states in India\n",
        "\n",
        "\n",
        "\n",
        "#To extract the data and sub_data to create a dataframe\n",
        "\n",
        "CL={'State':[], 'Year':[],'Quarter':[],'Txn_type':[], 'Txn_count':[], 'Txn_amount':[]}\n",
        "\n",
        "for i in Agg_state:\n",
        "    a_i=path+i+\"/\"\n",
        "    Agg_year=os.listdir(a_i)    \n",
        "    \n",
        "    for j in Agg_year:\n",
        "        a_j=a_i+j+\"/\"\n",
        "        Agg_year_list=os.listdir(a_j)        \n",
        "        \n",
        "        for k in Agg_year_list:\n",
        "            a_k=a_j+k\n",
        "            Data=open(a_k,'r')\n",
        "            D=json.load(Data)\n",
        "            \n",
        "            for z in D['data']['transactionData']:\n",
        "              Name=z['name']\n",
        "              count = z['paymentInstruments'][0]['count']\n",
        "              amount = z['paymentInstruments'][0]['amount']\n",
        "              \n",
        "              CL['Txn_type'].append(Name)\n",
        "              CL['Txn_count'].append(count)\n",
        "              CL['Txn_amount'].append(amount)\n",
        "              CL['State'].append(i)\n",
        "              CL['Year'].append(j)\n",
        "              CL['Quarter'].append(int(k.strip('.json')))\n",
        "\n",
        "\n",
        "pd.DataFrame(CL) #Succesfully created a dataframe\n",
        "\n",
        "####################################################################FOR_AGG_DATA###########################################################################################\n",
        "\n",
        "#For_aggregated_user_data as states\n",
        "\n",
        "path=\"/content/pulse/data/aggregated/user/country/india/state/\"\n",
        "Agg_user_state=os.listdir(path)\n",
        "\n",
        "\n",
        "\n",
        "#To extract the data and Sub_data to create a dataframe\n",
        "\n",
        "DL={'State':[], 'Year':[],'Quarter':[],'Brand_type':[], 'Users_count':[], 'Percentage':[]}\n",
        "\n",
        "for i in Agg_user_state:\n",
        "    p_i=path+i+\"/\"\n",
        "    Agg_user_year=os.listdir(p_i)    \n",
        "    \n",
        "    for j in Agg_user_year:\n",
        "        p_j=p_i+j+\"/\"\n",
        "        Agg_user_year_list=os.listdir(p_j)        \n",
        "        \n",
        "        for k in Agg_user_year_list:\n",
        "            p_k=p_j+k\n",
        "            Data=open(p_k,'r')\n",
        "            B=json.load(Data)\n",
        "            \n",
        "            if B['data'].get(\"usersByDevice\") is not None:\n",
        "                \n",
        "                for z in B['data'][\"usersByDevice\"]:\n",
        "                 brand = z['brand']\n",
        "                 count = z['count']\n",
        "                 percen = z['percentage']\n",
        "                 \n",
        "                 DL['Brand_type'].append(brand)\n",
        "                 DL['Users_count'].append(count)\n",
        "                 DL['Percentage'].append(percen)\n",
        "                 DL['State'].append(i)\n",
        "                 DL['Year'].append(j)\n",
        "                 DL['Quarter'].append(int(k.strip('.json')))\n",
        "\n",
        "\n",
        "pd.DataFrame(DL)\n",
        "\n",
        "\n",
        "\n"
      ],
      "metadata": {
        "id": "TyrFm7vSAfdP"
      },
      "execution_count": null,
      "outputs": []
    },
    {
      "cell_type": "markdown",
      "source": [
        "# ***For_Map_data***"
      ],
      "metadata": {
        "id": "aSL21qgXBVa-"
      }
    },
    {
      "cell_type": "code",
      "source": [
        "#For_map_transaction_data as states\n",
        "\n",
        "#Path to get the data as states from map/transaction folder\n",
        "\n",
        "path=\"/content/pulse/data/map/transaction/hover/country/india/state/\"\n",
        "map_state=os.listdir(path)\n",
        "\n",
        "\n",
        "#To extract the data and sub_data to create a dataframe\n",
        "\n",
        "AL={'State':[], 'Year':[],'Quarter':[],'Region_name':[], 'Txn_count':[], 'Txn_amount':[]}\n",
        "\n",
        "for i in map_state:\n",
        "    a_i=path+i+\"/\"\n",
        "    map_year=os.listdir(a_i)    \n",
        "    \n",
        "    for j in map_year:\n",
        "        a_j=a_i+j+\"/\"\n",
        "        map_year_list=os.listdir(a_j)        \n",
        "        \n",
        "        for k in map_year_list:\n",
        "            a_k=a_j+k\n",
        "            Data=open(a_k,'r')\n",
        "            A=json.load(Data)\n",
        "            \n",
        "            for z in A['data'][\"hoverDataList\"]:\n",
        "              Name=z['name']\n",
        "              count = z[\"metric\"][0]['count']\n",
        "              amount = z[\"metric\"][0]['amount']\n",
        "              \n",
        "              AL['Region_name'].append(Name)\n",
        "              AL['Txn_count'].append(count)\n",
        "              AL['Txn_amount'].append(amount)\n",
        "              AL['State'].append(i)\n",
        "              AL['Year'].append(j)\n",
        "              AL['Quarter'].append(int(k.strip('.json')))\n",
        "\n",
        "#Created a dataframe\n",
        "pd.DataFrame(AL)\n",
        "\n",
        "##################################################################FOR_MAP_DATA######################################################################################################\n",
        "\n",
        "\n",
        "#For_map_user_data as states\n",
        "#Following_is_the_path_for_data\n",
        "\n",
        "path=\"/content/pulse/data/map/user/hover/country/india/state/\"\n",
        "map_user_state=os.listdir(path)\n",
        "\n",
        "#To extract the data and sub_data to create a dataframe\n",
        "\n",
        "BL={'State':[], 'Year':[],'Quarter':[],'Reg_name':[], 'Reg_users':[], 'App_opening':[]}\n",
        "\n",
        "for i in map_user_state:\n",
        "    p_i=path+i+\"/\"\n",
        "    map_user_year=os.listdir(p_i)    \n",
        "    \n",
        "    for j in map_user_year:\n",
        "        p_j=p_i+j+\"/\"\n",
        "        map_user_year_list=os.listdir(p_j)        \n",
        "        \n",
        "        for k in map_user_year_list:\n",
        "            p_k=p_j+k\n",
        "            Data=open(p_k,'r')\n",
        "            B=json.load(Data)\n",
        "        \n",
        "        for z in B['data'][\"hoverData\"]:\n",
        "                 region_name = z\n",
        "                 reg_users = B['data'][\"hoverData\"][z]['registeredUsers']\n",
        "                 appOpens = B['data'][\"hoverData\"][z]['appOpens']\n",
        "                 \n",
        "                 BL['App_opening'].append(appOpens)\n",
        "                 BL['Reg_name'].append(region_name)\n",
        "                 BL['Reg_users'].append(reg_users)\n",
        "                 BL['State'].append(i)\n",
        "                 BL['Year'].append(j)\n",
        "                 BL['Quarter'].append(int(k.strip('.json')))\n",
        "\n",
        "#Created a dataframe\n",
        "pd.DataFrame(BL)\n",
        "\n"
      ],
      "metadata": {
        "id": "GNrmEpUvBW_W"
      },
      "execution_count": null,
      "outputs": []
    },
    {
      "cell_type": "markdown",
      "source": [
        "# ***For_Top_data***"
      ],
      "metadata": {
        "id": "jrdjVx71B0WT"
      }
    },
    {
      "cell_type": "code",
      "source": [
        "#For_TOP_transaction_data as states\n",
        "\n",
        "#Path to get the data as states from top/transaction folder\n",
        "\n",
        "path=\"/content/pulse/data/top/transaction/country/india/state/\"\n",
        "top_state=os.listdir(path)\n",
        "\n",
        "#To extract the data and sub_data to create a dataframe\n",
        "\n",
        "KL={'State':[], 'Year':[],'Quarter':[],'District_name':[], 'Txn_count':[], 'Txn_amount':[]}\n",
        "\n",
        "for i in top_state:\n",
        "    p_i=path+i+\"/\"\n",
        "    top_year=os.listdir(p_i)    \n",
        "    \n",
        "    for j in top_year:\n",
        "        p_j=p_i+j+\"/\"\n",
        "        top_year_list=os.listdir(p_j)        \n",
        "        \n",
        "        for k in top_year_list:\n",
        "            p_k=p_j+k\n",
        "            Data=open(p_k,'r')\n",
        "            K=json.load(Data)\n",
        "            \n",
        "            for z in K['data'][\"districts\"]:\n",
        "              D_Name=z[\"entityName\"]\n",
        "              count = z['metric']['count']\n",
        "              amount = z['metric']['amount']\n",
        "              \n",
        "              KL['District_name'].append(D_Name)\n",
        "              KL['Txn_count'].append(count)\n",
        "              KL['Txn_amount'].append(amount)\n",
        "              KL['State'].append(i)\n",
        "              KL['Year'].append(j)\n",
        "              KL['Quarter'].append(int(k.strip('.json')))\n",
        "\n",
        "#Created a dataframe\n",
        "pd.DataFrame(KL)\n",
        "\n",
        "########################################################################FOR_TOP_DATA######################################################################################################\n",
        "\n",
        "#For_TOP_user_data as states\n",
        "\n",
        "#Path_for_the_data\n",
        "\n",
        "path=\"/content/pulse/data/top/user/country/india/state/\"\n",
        "top_user_state=os.listdir(path)\n",
        "\n",
        "#To extract the data to create a dataframe\n",
        "\n",
        "JL={'State':[], 'Year':[],'Quarter':[],'Reg_name':[], 'Reg_users':[]}\n",
        "\n",
        "for i in top_user_state:\n",
        "    p_i=path+i+\"/\"\n",
        "    top_user_year=os.listdir(p_i)    \n",
        "    \n",
        "    for j in top_user_year:\n",
        "        p_j=p_i+j+\"/\"\n",
        "        top_user_year_list=os.listdir(p_j)        \n",
        "        \n",
        "        for k in top_user_year_list:\n",
        "            p_k=p_j+k\n",
        "            Data=open(p_k,'r')\n",
        "            J=json.load(Data)\n",
        "        \n",
        "        for z in J['data']['districts']:\n",
        "                 region_name = z['name']\n",
        "                 reg_users = z['registeredUsers']\n",
        "                 JL['Reg_name'].append(region_name)\n",
        "                 JL['Reg_users'].append(reg_users)\n",
        "                 JL['State'].append(i)\n",
        "                 JL['Year'].append(j)\n",
        "                 JL['Quarter'].append(int(k.strip('.json')))\n",
        "#Created a dataframe\n",
        "pd.DataFrame(JL)"
      ],
      "metadata": {
        "id": "OxpmwHSAB1Ay"
      },
      "execution_count": null,
      "outputs": []
    },
    {
      "cell_type": "markdown",
      "source": [
        "### **Connect to required SQL database and create tables accordingly**"
      ],
      "metadata": {
        "id": "wEDmDxZhCkR5"
      }
    },
    {
      "cell_type": "code",
      "source": [
        "# Inserting the dataframe into a sqlite database\n",
        "\n",
        "import sqlite3\n",
        "connect = sqlite3.connect('database2023_24.db')\n",
        "Cnt = connect.cursor()\n"
      ],
      "metadata": {
        "id": "nsOrvYm2ClHA"
      },
      "execution_count": 5,
      "outputs": []
    },
    {
      "cell_type": "markdown",
      "source": [
        "### ***Creating and Inserting data into tables***"
      ],
      "metadata": {
        "id": "kmQf2zRmD-KS"
      }
    },
    {
      "cell_type": "code",
      "source": [
        "#create a table in the database\n",
        "Cnt.execute('''CREATE TABLE IF NOT EXISTS agg__transaction(\n",
        "            State TEXT,\n",
        "            Year INT,\n",
        "            Quarter INT,\n",
        "            Txn_type TEXT,\n",
        "            Txn_count INT,\n",
        "            Txn_amount BIGINT\n",
        "            )''')\n",
        "\n",
        "#Insert the data into the table\n",
        "Cnt.executemany('INSERT INTO agg__transaction VALUES(?,?,?,?,?,?)', zip(CL['State'], CL['Year'], CL['Quarter'], CL['Txn_type'], CL['Txn_count'], CL['Txn_amount']))\n",
        "\n",
        "\n",
        "#create a table in the database\n",
        "Cnt.execute ('''CREATE TABLE IF NOT EXISTS agg__users(\n",
        "            State TEXT,\n",
        "            Year INT,\n",
        "            Quarter INT,\n",
        "            Brand_type TEXT,\n",
        "            Users_count INT,\n",
        "            Percentage FLOAT\n",
        "            )''')\n",
        "\n",
        "#insert the data into the table\n",
        "Cnt.executemany('INSERT INTO agg__users VALUES(?,?,?,?,?,?)', zip(DL['State'], DL['Year'], DL['Quarter'], DL['Brand_type'], DL['Users_count'], DL['Percentage']))\n",
        "\n",
        "############################################################FOR_MAP_DATA_TABLES#######################################################################################################################\n",
        "\n",
        "\n",
        "#create a table in the database\n",
        "Cnt.execute('''CREATE TABLE IF NOT EXISTS map_transaction(\n",
        "            State TEXT,\n",
        "            Year INT,\n",
        "            Quarter INT,\n",
        "            Region_name TEXT,\n",
        "            Txn_count INT,\n",
        "            Txn_amount BIGINT\n",
        "            )''')\n",
        "\n",
        "#insert the data into the table\n",
        "Cnt.executemany('INSERT INTO map_transaction VALUES(?,?,?,?,?,?)', zip(AL['State'], AL['Year'], AL['Quarter'], AL['Region_name'], AL['Txn_count'], AL['Txn_amount']))\n",
        "\n",
        "\n",
        "#create a table in the database\n",
        "\n",
        "Cnt.execute('''CREATE TABLE IF NOT EXISTS map_users01(\n",
        "            State TEXT,\n",
        "            Year INT,\n",
        "            Quarter INT,\n",
        "            Reg_name TEXT,\n",
        "            Reg_users BIGINT,\n",
        "            App_Opening INT\n",
        "            )''')\n",
        "\n",
        "#Insert the data into the table\n",
        "Cnt.executemany('INSERT INTO map_users01 VALUES(?,?,?,?,?,?)', zip(BL['State'], BL['Year'], BL['Quarter'], BL['Reg_name'], BL['Reg_users'], BL['App_opening']))\n",
        "\n",
        "\n",
        "##################################################################FOR_TOP_DATA_TABLES################################################################################################################\n",
        "\n",
        "#create a table in the database\n",
        "Cnt.execute('''CREATE TABLE IF NOT EXISTS top_transaction(\n",
        "            State TEXT,\n",
        "            Year INT,\n",
        "            Quarter INT,\n",
        "            District_name TEXT,\n",
        "            Txn_count INT,\n",
        "            Txn_amount BIGINT\n",
        "            )''')\n",
        "\n",
        "#Insert the data into the table\n",
        "Cnt.executemany('INSERT INTO top_transaction VALUES(?,?,?,?,?,?)', zip(CL['State'], KL['Year'], KL['Quarter'], KL['District_name'], KL['Txn_count'], KL['Txn_amount']))\n",
        "\n",
        "\n",
        "#create a table in the database\n",
        "Cnt.execute('''CREATE TABLE IF NOT EXISTS top_users(\n",
        "            State TEXT,\n",
        "            Year INT,\n",
        "            Quarter INT,\n",
        "            Reg_name TEXT,\n",
        "            Reg_users INT\n",
        "             )''')\n",
        "\n",
        "#insert the data into the table\n",
        "Cnt.executemany('INSERT INTO top_users VALUES(?,?,?,?,?)', zip(BL['State'], BL['Year'], BL['Quarter'], BL['Reg_name'], BL['Reg_users']))\n",
        "\n",
        "####################################################################FOR_LONG_LAT_STATES_TABLE###########################################################################################################################\n",
        "\n",
        "\n",
        "#CREATE STATES TABLE & INSERT STATES CSV DATA INTO TABLE\n",
        "\n",
        "States_table= \"CREATE TABLE IF NOT EXISTS Longitude_Latitude_State_Table(Number VARCHAR(50),State VARCHAR(50),Latitude VARCHAR(50),Longitude VARCHAR(50))\"\n",
        "Cnt.execute(States_table)\n",
        "connect.commit()\n",
        "df=pd.read_csv(r'/content/statestable.csv')\n",
        "\n",
        "for index, row in df.iterrows():\n",
        "     query=\"INSERT INTO Longitude_Latitude_State_Table(Number,State,latitude,longitude) values(?,?,?,?)\"\n",
        "     Cnt.execute(query,(row.Number,row.State,row.latitude,row.longitude))\n",
        "print('DataFrame Inserted successfully.')\n",
        "\n",
        "\n",
        "\n",
        "\n",
        "# Commit the changes to the database\n",
        "connect.commit()\n",
        "\n",
        "# Close the cursor and database connection\n",
        "#Cnt.close()\n",
        "#connect.close()\n"
      ],
      "metadata": {
        "id": "2PvPSb3fC9zl",
        "colab": {
          "base_uri": "https://localhost:8080/"
        },
        "outputId": "c6f0d1fe-07bc-4270-85f9-dd18e674b91f"
      },
      "execution_count": 6,
      "outputs": [
        {
          "output_type": "stream",
          "name": "stdout",
          "text": [
            "DataFrame Inserted successfully.\n"
          ]
        }
      ]
    },
    {
      "cell_type": "code",
      "source": [
        "#show the data in the table\n",
        "x = Cnt.execute(\"SELECT * FROM Longitude_Latitude_State_Table\")\n",
        "x_data = Cnt.fetchall()\n",
        "for row in x_data:\n",
        "    print(row)"
      ],
      "metadata": {
        "id": "qhODQpArY-lX"
      },
      "execution_count": null,
      "outputs": []
    },
    {
      "cell_type": "markdown",
      "source": [
        "***INSTALL PYNGROK FOR CONNECTING TO SERVER AND DISPLAYING APP VIA LINK***"
      ],
      "metadata": {
        "id": "TN4T-7iAErNQ"
      }
    },
    {
      "cell_type": "code",
      "source": [
        "!./ngrok authtokens 2Lb7nKJVe0k542wdclYWapnyfux_4nJurZjAiNAWGPRshYfda"
      ],
      "metadata": {
        "id": "aIrzfoCAEzb7",
        "colab": {
          "base_uri": "https://localhost:8080/"
        },
        "outputId": "e8572605-1475-4704-be9b-b205868fd251"
      },
      "execution_count": 7,
      "outputs": [
        {
          "output_type": "stream",
          "name": "stdout",
          "text": [
            "/bin/bash: ./ngrok: No such file or directory\n"
          ]
        }
      ]
    },
    {
      "cell_type": "code",
      "source": [
        "!pip install pyngrok\n",
        "from pyngrok import ngrok \n",
        "public_p_url = ngrok.connect(port='8501')"
      ],
      "metadata": {
        "id": "38TCau1CE0Sy"
      },
      "execution_count": null,
      "outputs": []
    },
    {
      "cell_type": "code",
      "source": [
        "!pip install streamlit"
      ],
      "metadata": {
        "id": "rbsgptP4PzeN"
      },
      "execution_count": null,
      "outputs": []
    },
    {
      "cell_type": "markdown",
      "source": [
        "**FURTHER USING REQUIRED LIBRARIES FOR CREATING DASHBOARD**"
      ],
      "metadata": {
        "id": "_50WRuVeE7L_"
      }
    },
    {
      "cell_type": "code",
      "source": [
        "%%writefile streamlit_app.py\n",
        "import pandas as pd\n",
        "import sqlite3\n",
        "import streamlit as st\n",
        "import plotly.express as px\n",
        "import plotly.graph_objects as go\n",
        "import json\n",
        "\n",
        "connect = sqlite3.connect('database2023_24.db')\n",
        "Cnt = connect.cursor()\n",
        "\n",
        "\n",
        "query = 'select * from map_transaction'\n",
        "Map_Transaction_df = pd.read_sql(query, con = connect)\n",
        "\n",
        "query = 'select * from top_transaction'\n",
        "Dataset_01 = pd.read_sql(query, con = connect)\n",
        "\n",
        "query = 'select * from agg__transaction'\n",
        "Choropleth_Dataset = pd.read_sql(query, con = connect)\n",
        "\n",
        "query = 'select * from agg__transaction'\n",
        "Aggregated_Transaction_df=pd.read_sql(query, con = connect)\n",
        "\n",
        "query = 'select * from agg__users'\n",
        "Aggregated_User_df=pd.read_sql(query, con = connect)\n",
        "\n",
        "query = 'select * from map_users01'\n",
        "Map_User_df=pd.read_sql(query, con = connect)\n",
        "\n",
        "query = 'select * from Longitude_Latitude_State_Table'\n",
        "Indian_States=pd.read_sql(query, con = connect)\n",
        "# Close the connection to the database\n",
        "connect.close()\n",
        "\n",
        "\n",
        "st.title(':violet[PhonePe Pulse Data:money_with_wings:]')\n",
        "image = (r\"https://miro.medium.com/max/1200/1*_rUuIdxcDROWq1TfAmnLVQ.png\")\n",
        "st.image(image, use_column_width=True)\n",
        "\n",
        "Year = st.selectbox(\n",
        "    'Please select the Year',\n",
        "    ('2018', '2019', '2020','2021','2022'))\n",
        "Quarter = st.selectbox(\n",
        "    'Please select the Quarter',\n",
        "    ('1', '2', '3','4'))\n",
        "year=int(Year)\n",
        "quarter=int(Quarter)\n",
        
        "Transaction_districts=Map_Transaction_df.loc[(Map_Transaction_df['Year'] == year ) & (Map_Transaction_df['Quarter']==quarter) ].copy()\n",
        "Transaction_Choropleth_States=Transaction_districts[Transaction_districts[\"State\"] == \"india\"]\n",
        "Transaction_districts.drop(Transaction_districts.index[(Transaction_districts[\"State\"] == \"india\")],axis=0,inplace=True)\n",
        "\n",
        
        "# Geo Data Generation\n",
        "Transaction_districts = Transaction_districts.sort_values(by=['Region_name'], ascending=False)\n",
        "Dataset_01 = Dataset_01.sort_values(by=['District_name'], ascending=False) \n",
        "\n",
        
        "Total_Amount=[]\n",
        "for i in Transaction_districts['Txn_amount']:\n",
        "    Total_Amount.append(i)\n",
        "\n",
        
        "Total_Transaction=[]\n",
        "for i in Transaction_districts['Txn_count']:\n",
        "    Total_Transaction.append(i)\n",
        "\n",
        "Dataset_01['Year_Quarter']=str(year)+'-Q'+str(quarter)\n",
        "\n",
        
        "# Dynamic Choropleth\n",
        "Choropleth_Dataset = Choropleth_Dataset.sort_values(by=['State'], ascending=False)\n",
        "Transaction_Choropleth_States = Transaction_Choropleth_States.sort_values(by=['Region_name'], ascending=False)\n",
        "\n",
        
        "Total_Amount=[]\n",
        "for i in Transaction_Choropleth_States['Txn_amount']:\n",
        "    Total_Amount.append(i)\n",
        "\n",
        "\n",
        
        "Total_Transaction=[]\n",
        "for i in Transaction_Choropleth_States['Txn_count']:\n",
        "    Total_Transaction.append(i)\n",
        "\n",
        
      
        
        "##########################################################################STATE_V/S_TRANSACTIONS(YEAR_&_QUARTER)###########################################################################################################\n",
        
        "\n",
        "st.write(\"### :violet[State v/s Transactions For Year And Quarter]\")\n",
        "Choropleth_Dataset = Choropleth_Dataset.sort_values(by=['Txn_count'])\n",
        "fig = px.bar(Choropleth_Dataset, x='State', y='Txn_count',title='Total Transaction In '+str(year)+\" Quarter\"+str(quarter)+\" In Rising Order\")\n",
        "st.plotly_chart(fig)\n",
        "st.info('**:violet[The Above Bar Graph Helps To Observe The Top States With Highest Transaction By Looking At Graph]**')\n",
        "\n",
        
        "################################################################PAYMENT_TYPES_V/S_YEAR#####################################################################################################################\n",
        
        "\n",
        "st.write('### :violet[Payment Modes v/s Year]')\n",
        "M = st.selectbox(\n",
        "    'Please select the Mode',\n",
        "    ('Recharge & bill payments', 'Peer-to-peer payments', 'Merchant payments', 'Financial Services','Others'),key='D')\n",
        "Y = st.selectbox(\n",
        "    'Please select the Year',\n",
        "    ('2018', '2019', '2020','2021','2022'),key='F')\n",
        "Year_PaymentMode=Aggregated_Transaction_df.copy()\n",
        "Year=int(Y)\n",
        "Payment_Mode=M\n",
        "Year_PaymentMode=Year_PaymentMode.loc[(Year_PaymentMode['Year']==Year) & \n",
        "                        (Year_PaymentMode['Txn_type']==Payment_Mode )]\n",
        "States_List=Year_PaymentMode['State'].unique()\n",
        "State_groupby_YP=Year_PaymentMode.groupby('State')\n",
        "Year_PaymentMode_Table=State_groupby_YP.sum()\n",
        "Year_PaymentMode_Table['State']=States_List\n",
        "del Year_PaymentMode_Table['Quarter']\n",
        "del Year_PaymentMode_Table['Year']\n",
        "Year_PaymentMode_Table = Year_PaymentMode_Table.sort_values(by=['Txn_count'])\n",
        "fig2= px.bar(Year_PaymentMode_Table, x='State', y='Txn_count',color=\"Txn_count\",\n",
        "            title='In The Year '+str(Year)+' The '+Payment_Mode+\" Pattern In All States \",color_continuous_scale=\"peach\",)\n",
        "st.plotly_chart(fig2) \n",
        "st.info('**:violet[The Above Bar Graph Shows The Total Number Of Transactions Happened For Corresponding Payment Modes]**')\n",
        "\n",
        
        "####################################################################PAYMENT_MODE_&_STATE###############################################################################################################\n",
        
        "\n",
        "st.write('## :violet[Transaction and Performance Analysis]')\n",
        "Aggregated_Transaction=Aggregated_Transaction_df.copy()\n",
        "Aggregated_Transaction.drop(Aggregated_Transaction.index[(Aggregated_Transaction[\"State\"] == \"india\")],axis=0,inplace=True)\n",
        "State_PaymentMode=Aggregated_Transaction.copy()\n",
        "st.write('### :yellow[State v/s Payment_Mode]')\n",
        "mode = st.selectbox(\n",
        "    'Please select the Mode',\n",
        "    ('Recharge & bill payments', 'Peer-to-peer payments', 'Merchant payments', 'Financial Services','Others'),key='a')\n",
        "state = st.selectbox(\n",
        "    'Please select the State',\n",
        "    ('andaman-&-nicobar-islands', 'andhra-pradesh', 'arunachal-pradesh',\n",
        "       'assam', 'bihar', 'chandigarh', 'chhattisgarh',\n",
        "       'dadra-&-nagar-haveli-&-daman-&-diu', 'delhi', 'goa', 'gujarat',\n",
        "       'haryana', 'himachal-pradesh', 'jammu-&-kashmir',\n",
        "       'jharkhand', 'karnataka', 'kerala', 'ladakh', 'lakshadweep',\n",
        "       'madhya-pradesh', 'maharashtra', 'manipur', 'meghalaya', 'mizoram',\n",
        "       'nagaland', 'odisha', 'puducherry', 'punjab', 'rajasthan',\n",
        "       'sikkim', 'tamil-nadu', 'telangana', 'tripura', 'uttar-pradesh',\n",
        "       'uttarakhand', 'west-bengal'),key='b')\n",
        "State= state\n",
        "Year_List=[2018,2019,2020,2021,2022]\n",
        "Mode=mode\n",
        "State_PaymentMode=State_PaymentMode.loc[(State_PaymentMode['State'] == State ) & (State_PaymentMode['Year'].isin(Year_List)) & \n",
        "                        (State_PaymentMode['Txn_type']==Mode )]\n",
        "State_PaymentMode = State_PaymentMode.sort_values(by=['Year'])\n",
        "State_PaymentMode[\"Quarter\"] = \"Q\"+State_PaymentMode['Quarter'].astype(str)\n",
        "State_PaymentMode[\"Year_Quarter\"] = State_PaymentMode['Year'].astype(str) +\"-\"+ State_PaymentMode[\"Quarter\"].astype(str)\n",
        "import plotly.express as px\n",
        "fig = px.bar(State_PaymentMode, x='Year_Quarter', y='Txn_count',color=\"Txn_count\",\n",
        "            title='The Transaction Data Analysis Of '+Mode+' In '+State, color_continuous_scale=\"Viridis\")\n",
        "st.plotly_chart(fig)\n",
        "st.info('**:violet[The Above Graph Shows How Each Payment Mode Performed Statewise]**')\n",
        "\n",
        

        "##################################################################TRANSACTION_GROWTH_OVERTIME###################################################################################################\n",
        
        "\n",
        "st.write('### :violet[Growth In Transactions:rocket:]')\n",
        "years=Aggregated_Transaction.groupby('Year')\n",
        "years_List=Aggregated_Transaction['Year'].unique()\n",
        "years_Table=years.sum()\n",
        "del years_Table['Quarter']\n",
        "years_Table['year']=years_List\n",
        "total_trans=years_Table['Txn_count'].sum()\n",
        "st.markdown(years_Table.style.hide_index().to_html(), unsafe_allow_html=True)\n",
        "fig1 = px.pie(years_Table, values='Txn_count', names='year', title='Total Transactions Count In Different Years')\n",
        "st.plotly_chart(fig1)\n",
        "st.info('**:violet[The Above Pie Chart Shows How The Online Payments Are Growing With Time]**')\n",
        "\n",
        
        "#############################################################USERS V/S BRANDS###########################################################################################################\n",
        
        "\n",
        "st.write('# :violet[USERS v/s BRANDS DATA ANALYSIS]')\n",
        "st.write('### :yellow[Brands_Involved] ')\n",
        "state = st.selectbox(\n",
        "    'Please select the State',\n",
        "    ('india','andaman-&-nicobar-islands', 'andhra-pradesh', 'arunachal-pradesh',\n",
        "       'assam', 'bihar', 'chandigarh', 'chhattisgarh',\n",
        "       'dadra-&-nagar-haveli-&-daman-&-diu', 'delhi', 'goa', 'gujarat',\n",
        "       'haryana', 'himachal-pradesh', 'jammu-&-kashmir',\n",
        "       'jharkhand', 'karnataka', 'kerala', 'ladakh', 'lakshadweep',\n",
        "       'madhya-pradesh', 'maharashtra', 'manipur', 'meghalaya', 'mizoram',\n",
        "       'nagaland', 'odisha', 'puducherry', 'punjab', 'rajasthan',\n",
        "       'sikkim', 'tamil-nadu', 'telangana', 'tripura', 'uttar-pradesh',\n",
        "       'uttarakhand', 'west-bengal'),key='Z')\n",
        "Y = st.selectbox(\n",
        "    'Please select the Year',\n",
        "    ('2018', '2019', '2020','2021','2022'),key='X')\n",
        "y=int(Y)\n",
        "s=state\n",
        "brand=Aggregated_User_df[Aggregated_User_df['Year']==y] \n",
        "brand=Aggregated_User_df.loc[(Aggregated_User_df['Year'] == y) & (Aggregated_User_df['State'] ==s)]\n",
        "myb= brand['Brand_type'].unique()\n",
        "x = sorted(myb)\n",
        "b=brand.groupby('Brand_type').sum()\n",
        "b['brand']=x\n",
        "br=b['Users_count'].sum()\n",
        "labels = b['brand']\n",
        "values = b['Users_count']\n",
        "fig3 = go.Figure(data=[go.Pie(labels=labels, values=values, hole=.4,customdata=labels,textinfo='label+percent',texttemplate='%{label}<br>%{percent:1%f}',insidetextorientation='horizontal',textfont=dict(color='#000000'),marker_colors=px.colors.qualitative.Prism)])\n",
        "st.plotly_chart(fig3)\n",
        "st.info('**:violet[The Above Donut Chart Shows How The Users Are Registered With Respect to Brand Types]**')\n",
        "\n",
        
        "#########################################################USERS_BRANDTYPES_BARGRAPH#############################################################################################################################\n",
        
        "\n",
        "b = b.sort_values(by=['Users_count'])\n",
        "fig4= px.bar(b, x='brand', y='Users_count',color=\"Users_count\",\n",
        "            title='In '+state+' The Brand Types Distribution In '+str(y),\n",
        "            color_continuous_scale=\"oranges\",)\n",
        "st.plotly_chart(fig4) \n",
        "st.info('**:violet[The Above Bar Graph Shows How The Users Are Registered With Respect to Brand Types]**')\n",
        "\n"
      ],
      "metadata": {
        "id": "IhA_4gl8E74X",
        "colab": {
          "base_uri": "https://localhost:8080/"
        },
        "outputId": "06f4c14f-a7e6-451b-89d6-7ef0a889c907"
      },
      "execution_count": 11,
      "outputs": [
        {
          "output_type": "stream",
          "name": "stdout",
          "text": [
            "Writing streamlit_app.py\n"
          ]
        }
      ]
    },
    {
      "cell_type": "code",
      "source": [
        "!streamlit run /content/streamlit_app.py & npx localtunnel -p 8501"
      ],
      "metadata": {
        "id": "bQb1EdYsFH0K"
      },
      "execution_count": null,
      "outputs": []
    }
  ]
}
